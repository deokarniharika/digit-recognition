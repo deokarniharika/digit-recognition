{
  "nbformat": 4,
  "nbformat_minor": 0,
  "metadata": {
    "colab": {
      "name": "digit.ipynb",
      "provenance": [],
      "collapsed_sections": []
    },
    "kernelspec": {
      "name": "python3",
      "display_name": "Python 3"
    },
    "language_info": {
      "name": "python"
    }
  },
  "cells": [
    {
      "cell_type": "code",
      "execution_count": 1,
      "metadata": {
        "id": "Km23SRHoVuio"
      },
      "outputs": [],
      "source": [
        "import os   \n",
        "import cv2  #for-computer-vision\n",
        "import numpy as np   #numpy-arrays\n",
        "import matplotlib.pyplot as plt   #visualization\n",
        "import  tensorflow as tf   #machine-learning-part"
      ]
    },
    {
      "cell_type": "code",
      "source": [
        "mnist=tf.keras.datasets.mnist\n",
        "\n",
        "(x_train, y_train), (x_test, y_test)=mnist.load_data()\n",
        "#xdata--> image/pixel data\n",
        "#ydata--> classification\n",
        "\n",
        "x_train=tf.keras.utils.normalize(x_train, axis=1)\n",
        "x_test=tf.keras.utils.normalize(x_test, axis=1)\n",
        "\n",
        "model=tf.keras.models.Sequential()\n",
        "model.add(tf.keras.layers.Flatten(input_shape=(28,28)))    #0 #not a gird, a line of 784 pixels\n",
        "model.add(tf.keras.layers.Dense(128, activation='relu'))   #1 #most basic NN layer where each neuron is connected to every other neuron of another network. \n",
        "model.add(tf.keras.layers.Dense(128, activation='relu'))   #2\n",
        "model.add(tf.keras.layers.Dense(10, activation='softmax')) #3  #this-is-for-having-the-output-10-neurons-for-10-digits\n",
        "#here softmax activation function is used to guess the probability of every digit\n",
        "\n",
        "model.compile(optimizer='adam', loss='sparse_categorical_crossentropy', metrics=['accuracy'])\n",
        "model.fit(x_train, y_train, epochs=3)\n",
        "model.save('handwritten.model')\n",
        "\n"
      ],
      "metadata": {
        "colab": {
          "base_uri": "https://localhost:8080/"
        },
        "id": "H7xuX7yeY3EO",
        "outputId": "5e727e76-4603-46a0-f2e1-fb8a4b328b3e"
      },
      "execution_count": 4,
      "outputs": [
        {
          "output_type": "stream",
          "name": "stdout",
          "text": [
            "Epoch 1/3\n",
            "1875/1875 [==============================] - 4s 2ms/step - loss: 0.2598 - accuracy: 0.9241\n",
            "Epoch 2/3\n",
            "1875/1875 [==============================] - 4s 2ms/step - loss: 0.1056 - accuracy: 0.9673\n",
            "Epoch 3/3\n",
            "1875/1875 [==============================] - 4s 2ms/step - loss: 0.0706 - accuracy: 0.9775\n",
            "INFO:tensorflow:Assets written to: handwritten.model/assets\n"
          ]
        }
      ]
    },
    {
      "cell_type": "code",
      "source": [
        "model=tf.keras.models.load_model('handwritten.model')\n",
        "loss, accuracy= model.evaluate(x_test, y_test)\n",
        "print(loss)    #low loss(0-1)\n",
        "print(accuracy)  #high accuracy  range(0-1)"
      ],
      "metadata": {
        "colab": {
          "base_uri": "https://localhost:8080/"
        },
        "id": "xtRHF2FUXMAk",
        "outputId": "24aa1379-1c5c-4b2c-a21e-3144e052fb8b"
      },
      "execution_count": 5,
      "outputs": [
        {
          "output_type": "stream",
          "name": "stdout",
          "text": [
            "313/313 [==============================] - 1s 1ms/step - loss: 0.0936 - accuracy: 0.9722\n",
            "0.09356282651424408\n",
            "0.9721999764442444\n"
          ]
        }
      ]
    },
    {
      "cell_type": "code",
      "source": [
        "model=tf.keras.models.load_model('handwritten.model')\n",
        "image_number=1\n",
        "while os.path.isfile(f\"digits/digit{image_number}.png\"):\n",
        "  try:\n",
        "    img=cv2.imread(f\"digits/digit{image_number}.png\")[:,:,0]\n",
        "    img=np.invert(np.array([img]))\n",
        "    prediction=model.predict(img)\n",
        "    print(f\"The digit is probably {np.argmax(prediction)}\")   #gives the index of the image-ie the digit\n",
        "    plt.imshow(img[0], cmap=plt.cm.binary) \n",
        "    plt.show()\n",
        "\n",
        "  except:\n",
        "    print(\"Error\")\n",
        "  \n",
        "  finally:\n",
        "    image_number +=1\n"
      ],
      "metadata": {
        "colab": {
          "base_uri": "https://localhost:8080/",
          "height": 549
        },
        "id": "n__41Q-1oEj3",
        "outputId": "8e58a419-a0d2-4986-8579-27405dcbf70d"
      },
      "execution_count": 7,
      "outputs": [
        {
          "output_type": "stream",
          "name": "stdout",
          "text": [
            "The digit is probably 8\n"
          ]
        },
        {
          "output_type": "display_data",
          "data": {
            "text/plain": [
              "<Figure size 432x288 with 1 Axes>"
            ],
            "image/png": "[encoded data removed]"
          },
          "metadata": {
            "needs_background": "light"
          }
        },
        {
          "output_type": "stream",
          "name": "stdout",
          "text": [
            "The digit is probably 8\n"
          ]
        },
        {
          "output_type": "display_data",
          "data": {
            "text/plain": [
              "<Figure size 432x288 with 1 Axes>"
            ],
            "image/png": "[encoded data removed]"
          },
          "metadata": {
            "needs_background": "light"
          }
        }
      ]
    }
  ]
}